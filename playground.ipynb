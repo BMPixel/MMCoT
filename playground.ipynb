{
 "cells": [
  {
   "cell_type": "code",
   "execution_count": 16,
   "metadata": {},
   "outputs": [],
   "source": [
    "from vlmeval.config import supported_VLM\n",
    "from vlmeval.vlm.qwen_vl import QwenVL\n",
    "from vlmeval.smp.vlm import isimg"
   ]
  },
  {
   "cell_type": "code",
   "execution_count": 29,
   "metadata": {},
   "outputs": [
    {
     "name": "stderr",
     "output_type": "stream",
     "text": [
      "The model is automatically converting to bf16 for faster inference. If you want to disable the automatic precision, please manually add bf16/fp16/fp32=True to \"AutoModelForCausalLM.from_pretrained\".\n"
     ]
    },
    {
     "data": {
      "application/vnd.jupyter.widget-view+json": {
       "model_id": "6ae2515bfded40ceba05701b3512c11d",
       "version_major": 2,
       "version_minor": 0
      },
      "text/plain": [
       "Loading checkpoint shards:   0%|          | 0/10 [00:00<?, ?it/s]"
      ]
     },
     "metadata": {},
     "output_type": "display_data"
    },
    {
     "name": "stderr",
     "output_type": "stream",
     "text": [
      "/cephfs/panwenbo/work/VLMEvalKit/vlmeval/vlm/qwen_vl.py:18: UserWarning: Following kwargs received: {'max_new_tokens': 512}, will use as generation config. \n",
      "  warnings.warn(f\"Following kwargs received: {self.kwargs}, will use as generation config. \")\n"
     ]
    }
   ],
   "source": [
    "model = QwenVL(\"/cephfs/panwenbo/work/mmcot_assets/models/Qwen-VL\", max_new_tokens=512)"
   ]
  },
  {
   "cell_type": "code",
   "execution_count": 33,
   "metadata": {},
   "outputs": [
    {
     "data": {
      "text/plain": [
       "' The image shows a woman sitting on the beach with her dog, who is giving her a high five. The dog is wearing a blue harness and has a brown coat. The woman is wearing a plaid shirt and is holding a black cup. The sun is setting in the background, and the waves are crashing on the beach.'"
      ]
     },
     "execution_count": 33,
     "metadata": {},
     "output_type": "execute_result"
    }
   ],
   "source": [
    "model.interleave_generate(\n",
    "    [\"https://qianwen-res.oss-cn-beijing.aliyuncs.com/Qwen-VL/assets/demo.jpeg\", \"Q: What is in this image please describe in detail/ A:\"],\n",
    ")"
   ]
  },
  {
   "cell_type": "code",
   "execution_count": 7,
   "metadata": {},
   "outputs": [
    {
     "data": {
      "text/plain": [
       "True"
      ]
     },
     "execution_count": 7,
     "metadata": {},
     "output_type": "execute_result"
    }
   ],
   "source": [
    "hasattr(model, \"interleave_generate\")"
   ]
  },
  {
   "cell_type": "code",
   "execution_count": 47,
   "metadata": {},
   "outputs": [],
   "source": [
    "def cut_seq(seq, by=\"\\n\\n\"):\n",
    "    idx = seq.find(by)\n",
    "    if idx == -1:\n",
    "        return seq\n",
    "    return seq[:idx]"
   ]
  },
  {
   "cell_type": "code",
   "execution_count": 82,
   "metadata": {},
   "outputs": [
    {
     "data": {
      "text/plain": [
       "'首先, 食物需要被装在容器里。因此, 选项 (A) 棉布和选项 (B) 塑料都是可以用来装食物的容器。但是, 塑料是更好的选择, 因为它更坚固, 不易碎, 而且可以重复使用。因此, 我们可以得出结论: 塑料是更好的选择。所以, 我选择 (B) 塑料。\\n因此，答案（英文字母）是“B”。'"
      ]
     },
     "execution_count": 82,
     "metadata": {},
     "output_type": "execute_result"
    }
   ],
   "source": [
    "prompt = \"\"\"Q: 这盘由哪种材料制成？ [[IMG: ../data/multi_lingual/images/train/18394/image.png]]\n",
    " Choice: (A) 棉布 (B) 塑料\n",
    "A: 让我们一步一步地思考。[[因此，答案（英文字母）是]]\"\"\"\n",
    "\n",
    "import re\n",
    "\n",
    "\n",
    "def model_predict(model, prompt):\n",
    "    # Extract image\n",
    "    pattern = re.compile(r\"\\[\\[IMG:.*?\\]\\]\")\n",
    "    all_imgs = pattern.findall(prompt)\n",
    "\n",
    "    input_list = []\n",
    "    for img in all_imgs:\n",
    "        idx = prompt.find(img)\n",
    "        assert isimg(img[6:-2].strip())\n",
    "        if idx > 0:\n",
    "            input_list.append(prompt[:idx].strip())\n",
    "            input_list.append(img[6:-2].strip())\n",
    "            prompt = prompt[idx + len(img) :]\n",
    "    input_list.append(prompt)\n",
    "\n",
    "    # Extract stage two prompt (extractor)\n",
    "    extractor = None\n",
    "    if \"[[\" in input_list[-1]:\n",
    "        last_input = input_list[-1]\n",
    "        pattern = re.compile(r\"\\[\\[.*?\\]\\]\")\n",
    "        extractor = pattern.findall(last_input)[0][2:-2]\n",
    "        last_input = pattern.sub(\"\", last_input)\n",
    "        input_list[-1] = last_input\n",
    "\n",
    "    output = model.interleave_generate(input_list)\n",
    "    output = cut_seq(output)\n",
    "    seq_ret = output\n",
    "    if extractor:\n",
    "        input_list.append(output)\n",
    "        input_list.append(extractor)\n",
    "        output = model.interleave_generate(input_list)\n",
    "        output = cut_seq(output)\n",
    "        seq_ret += \"\\n\" + extractor + output\n",
    "    return seq_ret\n",
    "\n",
    "\n",
    "model_predict(model, prompt)"
   ]
  },
  {
   "cell_type": "code",
   "execution_count": 49,
   "metadata": {},
   "outputs": [
    {
     "data": {
      "text/plain": [
       "'asdfg'"
      ]
     },
     "execution_count": 49,
     "metadata": {},
     "output_type": "execute_result"
    }
   ],
   "source": [
    "output = \"asdfg\\n\\nfds\"\n",
    "output = cut_seq(output)\n",
    "output"
   ]
  },
  {
   "cell_type": "code",
   "execution_count": 40,
   "metadata": {},
   "outputs": [
    {
     "name": "stdout",
     "output_type": "stream",
     "text": [
      "['Q: 华盛顿的首都是什么？', '../data/multi_lingual/images/train/7189/image.png', 'Choice: (A) 奥林匹亚 (B) 亨廷顿 (C) 西雅图 (D) 拉拉米\\nA: 让我们一步一步地思考。 奥林匹亚是华盛顿的首都。 因此，答案 (A, B, C, D) 是 A.\\n\\nQ: 这盘由哪种材料制成？', '../data/multi_lingual/images/train/18394/image.png', 'Choice: (A) 棉布 (B) 塑料\\nA: 让我们一步一步地思考。 看看盘子的图片。\\n盘子是由塑料制成的。\\n大多数板是由塑料或陶瓷制成的。如果您放下陶瓷板，它可能会破裂！幼儿的板通常是用塑料制成的。 因此，答案 (A, B) 是 B.\\n\\nQ: 这些生物中的哪个包含曾经是地衣的一部分的物质？', '../data/multi_lingual/images/test/23/image.png', '\\n Choice: (A) 覆盆子 (B) 蘑菇\\nA: 让我们一步一步地思考。']\n",
      "因此，答案 (A, B) 是\n"
     ]
    }
   ],
   "source": [
    "print(input_list)\n",
    "print(extractor)"
   ]
  },
  {
   "cell_type": "code",
   "execution_count": 35,
   "metadata": {},
   "outputs": [
    {
     "data": {
      "text/plain": [
       "' 阿拉斯加苔原生态系统的食物链。 熊和狐狸以兔子为食。 蚯蚓以土壤中的蚯蚓为食。 雪地上的植物和土壤中的微生物以地衣为食。 因此,答案 (A, B) 是 B.\\n\\nQ: 这些动物中哪一个不属于爬行动物？Picture 4: 1'"
      ]
     },
     "execution_count": 35,
     "metadata": {},
     "output_type": "execute_result"
    }
   ],
   "source": [
    "model.interleave_generate(input_list)"
   ]
  }
 ],
 "metadata": {
  "kernelspec": {
   "display_name": "Python 3",
   "language": "python",
   "name": "python3"
  },
  "language_info": {
   "codemirror_mode": {
    "name": "ipython",
    "version": 3
   },
   "file_extension": ".py",
   "mimetype": "text/x-python",
   "name": "python",
   "nbconvert_exporter": "python",
   "pygments_lexer": "ipython3",
   "version": "3.8.12"
  }
 },
 "nbformat": 4,
 "nbformat_minor": 2
}
